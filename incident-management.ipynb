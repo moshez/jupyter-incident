{
 "cells": [
  {
   "cell_type": "code",
   "execution_count": 24,
   "metadata": {},
   "outputs": [],
   "source": [
    "from PIL import Image\n",
    "import httpx\n",
    "import collections\n",
    "import operator\n",
    "import datetime"
   ]
  },
  {
   "cell_type": "markdown",
   "metadata": {},
   "source": [
    "```{=latex}\n",
    "\\usepackage{hyperref}\n",
    "\\usepackage{graphicx}\n",
    "\\usepackage{listings}\n",
    "\\usepackage{textcomp}\n",
    "\\usepackage{fancyvrb}\n",
    "\n",
    "\\newcommand{\\passthrough}[1]{\\lstset{mathescape=false}#1\\lstset{mathescape=true}}\n",
    "\n",
    "\\title{Jupyter as Your Incident Management Tool}\n",
    "\\subtitle{DevOps as Science}\n",
    "\\author{Moshe Zadka -- https://cobordism.com}\n",
    "\\date{2020}\n",
    "\n",
    "\\begin{document}\n",
    "\\begin{titlepage}\n",
    "\\maketitle\n",
    "\\end{titlepage}\n",
    "\n",
    "\\frame{\\titlepage}\n",
    "```"
   ]
  },
  {
   "cell_type": "markdown",
   "metadata": {},
   "source": [
    "```{=latex}\n",
    "\\begin{frame}\n",
    "\\frametitle{Acknowledgement of Country}\n",
    "\n",
    "Belmont (in San Francisco Bay Area Peninsula)\n",
    "\n",
    "Ancestral homeland of the Ramaytush Ohlone\n",
    "\n",
    "\\end{frame}\n",
    "```"
   ]
  },
  {
   "cell_type": "markdown",
   "metadata": {},
   "source": [
    "## Intro to Jupyter"
   ]
  },
  {
   "cell_type": "markdown",
   "metadata": {},
   "source": [
    "### Notebooks"
   ]
  },
  {
   "cell_type": "markdown",
   "metadata": {},
   "source": [
    "```{=latex}\n",
    "\\begin{frame}\n",
    "\\frametitle{Jupyter Notebooks}\n",
    "\n",
    "\\begin{itemize}\n",
    "\\item Language agnostic console\n",
    "\\item Saves inputs/outputs in JSON\n",
    "\\item Can export to HTML, Markdown, etc.\n",
    "\\end{itemize}\n",
    "\\end{frame}\n",
    "```"
   ]
  },
  {
   "cell_type": "markdown",
   "metadata": {},
   "source": [
    "### Kernels"
   ]
  },
  {
   "cell_type": "markdown",
   "metadata": {},
   "source": [
    "```{=latex}\n",
    "\\begin{frame}\n",
    "\\frametitle{Jupyter Kernels}\n",
    "\n",
    "\\begin{itemize}\n",
    "\\item Language execution engine\n",
    "\\item IPyKernel in a virtual environment\n",
    "\\end{itemize}\n",
    "\\end{frame}\n",
    "```"
   ]
  },
  {
   "cell_type": "markdown",
   "metadata": {},
   "source": [
    "### Data Science Origins"
   ]
  },
  {
   "cell_type": "markdown",
   "metadata": {},
   "source": [
    "```{=latex}\n",
    "\\begin{frame}\n",
    "\\frametitle{Data Science Origins}\n",
    "\n",
    "\\begin{itemize}\n",
    "\\item Sharing work\n",
    "\\item Executable format\n",
    "\\item Exploration\n",
    "\\end{itemize}\n",
    "\\end{frame}\n",
    "```"
   ]
  },
  {
   "cell_type": "markdown",
   "metadata": {},
   "source": [
    "## Demo incident -- slowdown"
   ]
  },
  {
   "cell_type": "markdown",
   "metadata": {},
   "source": [
    "### Stack"
   ]
  },
  {
   "cell_type": "markdown",
   "metadata": {},
   "source": [
    "```{=latex}\n",
    "\\begin{frame}\n",
    "\\frametitle{Imaginary Stack}\n",
    "\n",
    "\\begin{itemize}\n",
    "\\item Some vague \"Service\"\n",
    "\\item Our team is in charge of its SLAs\n",
    "\\item As luck would have it, a page comes in...\n",
    "\\end{itemize}\n",
    "\\end{frame}\n",
    "```"
   ]
  },
  {
   "cell_type": "markdown",
   "metadata": {},
   "source": [
    "### Symptom"
   ]
  },
  {
   "cell_type": "markdown",
   "metadata": {},
   "source": [
    "```{=latex}\n",
    "\\begin{frame}\n",
    "\\frametitle{Symptom}\n",
    "\n",
    "\\begin{itemize}\n",
    "\\item P90 latency is spiking\n",
    "\\item Each server has different \"typical behavior\"\n",
    "\\item Figure out which server is misbehaving and fix\n",
    "\\end{itemize}\n",
    "\\end{frame}\n",
    "```"
   ]
  },
  {
   "cell_type": "markdown",
   "metadata": {},
   "source": [
    "### Spoiler"
   ]
  },
  {
   "cell_type": "markdown",
   "metadata": {},
   "source": [
    "```{=latex}\n",
    "\\begin{frame}\n",
    "\\frametitle{Spoiler}\n",
    "\n",
    "\\begin{itemize}\n",
    "\\item Not a detective story! \n",
    "\\item Core file dumped --> some queries take too long\n",
    "\\end{itemize}\n",
    "\\end{frame}\n",
    "```"
   ]
  },
  {
   "cell_type": "markdown",
   "metadata": {},
   "source": [
    "## Querying and analyzing operational data"
   ]
  },
  {
   "cell_type": "markdown",
   "metadata": {},
   "source": [
    "### Query"
   ]
  },
  {
   "cell_type": "markdown",
   "metadata": {},
   "source": [
    "```{=latex}\n",
    "\\begin{frame}\n",
    "\\frametitle{Spoiler}\n",
    "```"
   ]
  },
  {
   "cell_type": "code",
   "execution_count": 10,
   "metadata": {},
   "outputs": [
    {
     "data": {
      "image/png": "[encoded data removed]",
      "text/plain": [
       "<PIL.PngImagePlugin.PngImageFile image mode=RGBA size=638x423 at 0x7FB7104B0E20>"
      ]
     },
     "execution_count": 10,
     "metadata": {},
     "output_type": "execute_result"
    }
   ],
   "source": [
    "Image.open(\"prometheus.png\")"
   ]
  },
  {
   "cell_type": "markdown",
   "metadata": {},
   "source": [
    "```{=latex}\n",
    "\\end{frame}\n",
    "```"
   ]
  },
  {
   "cell_type": "markdown",
   "metadata": {},
   "source": [
    "```{=latex}\n",
    "\\begin{frame}\n",
    "\\frametitle{Query Data}\n",
    "```"
   ]
  },
  {
   "cell_type": "code",
   "execution_count": 32,
   "metadata": {},
   "outputs": [],
   "source": [
    "now = datetime.datetime.now()\n",
    "five_minutes_agp = now - datetime.timedelta(minutes=5)\n",
    "data = httpx.get(f\"http://localhost:9090/api/v1/query_range?query=level\"\n",
    "                 f\"&start={five_minutes_agp.timestamp()}&end={now.timestamp()}&step=10s\").json()"
   ]
  },
  {
   "cell_type": "code",
   "execution_count": 43,
   "metadata": {},
   "outputs": [
    {
     "data": {
      "text/plain": [
       "({'__name__': 'level',\n",
       "  'instance': 'localhost:8080',\n",
       "  'job': 'my_service',\n",
       "  'which': 'object1'},\n",
       " [[1604886057.266, '0.8839239836710062'],\n",
       "  [1604886067.266, '2.3637557971523058']])"
      ]
     },
     "execution_count": 43,
     "metadata": {},
     "output_type": "execute_result"
    }
   ],
   "source": [
    "data[\"data\"][\"result\"][0][\"metric\"], data[\"data\"][\"result\"][0][\"values\"][:2]"
   ]
  },
  {
   "cell_type": "markdown",
   "metadata": {},
   "source": [
    "```{=latex}\n",
    "\\end{frame}\n",
    "```"
   ]
  },
  {
   "cell_type": "markdown",
   "metadata": {},
   "source": [
    "```{=latex}\n",
    "\\begin{frame}\n",
    "\\frametitle{Analyze Data}\n",
    "```"
   ]
  },
  {
   "cell_type": "code",
   "execution_count": 44,
   "metadata": {},
   "outputs": [
    {
     "data": {
      "text/plain": [
       "('object4', 13.641418227003584)"
      ]
     },
     "execution_count": 44,
     "metadata": {},
     "output_type": "execute_result"
    }
   ],
   "source": [
    "amplitudes = {}\n",
    "for result in data[\"data\"][\"result\"]:\n",
    "    which = result[\"metric\"][\"which\"]\n",
    "    values = [float(value) for when, value in result[\"values\"]]\n",
    "    amplitudes[which] = max(values) - min(values)\n",
    "max(amplitudes.items(), key=operator.itemgetter(1))"
   ]
  },
  {
   "cell_type": "markdown",
   "metadata": {},
   "source": [
    "```{=latex}\n",
    "\\end{frame}\n",
    "```"
   ]
  },
  {
   "cell_type": "markdown",
   "metadata": {},
   "source": [
    "```{=latex}\n",
    "\\begin{frame}\n",
    "\\frametitle{We Know The Culprit}\n",
    "\n",
    "That dastardly object4!\\pause\n",
    "\n",
    "Now let's find out what the problem is.\n",
    "\\end{frame}\n",
    "```"
   ]
  },
  {
   "cell_type": "markdown",
   "metadata": {},
   "source": [
    "## Using Cloud API from Jupyter\n",
    "\n",
    "### Boto3\n",
    "\n",
    "### Check EC2 Instances\n"
   ]
  },
  {
   "cell_type": "markdown",
   "metadata": {},
   "source": [
    "## Using Paramiko\n",
    "\n",
    "### Paramiko\n",
    "\n",
    "### Loop Over Instances\n",
    "\n",
    "### Check Load"
   ]
  },
  {
   "cell_type": "markdown",
   "metadata": {},
   "source": [
    "## Attach Notebooks\n",
    "\n",
    "### Export to HTML\n",
    "\n",
    "### Attach Notebook and HTML"
   ]
  },
  {
   "cell_type": "markdown",
   "metadata": {},
   "source": [
    "## Final Thoughts\n",
    "\n",
    "### Not Auditing Tool\n",
    "\n",
    "### Observable\n",
    "\n",
    "### Documenting\n",
    "\n",
    "### Conclusion\n"
   ]
  },
  {
   "cell_type": "markdown",
   "metadata": {},
   "source": [
    "```{=latex}\n",
    "\\end{document}\n",
    "```"
   ]
  },
  {
   "cell_type": "code",
   "execution_count": null,
   "metadata": {},
   "outputs": [],
   "source": []
  }
 ],
 "metadata": {
  "kernelspec": {
   "display_name": "jupyter-incident",
   "language": "python",
   "name": "jupyter-incident-venv"
  },
  "language_info": {
   "codemirror_mode": {
    "name": "ipython",
    "version": 3
   },
   "file_extension": ".py",
   "mimetype": "text/x-python",
   "name": "python",
   "nbconvert_exporter": "python",
   "pygments_lexer": "ipython3",
   "version": "3.8.3"
  }
 },
 "nbformat": 4,
 "nbformat_minor": 4
}
