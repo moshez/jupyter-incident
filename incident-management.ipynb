{
 "cells": [
  {
   "cell_type": "markdown",
   "metadata": {},
   "source": [
    "```{=latex}\n",
    "\\usepackage{hyperref}\n",
    "\\usepackage{graphicx}\n",
    "\\usepackage{listings}\n",
    "\\usepackage{textcomp}\n",
    "\\usepackage{fancyvrb}\n",
    "\n",
    "\\newcommand{\\passthrough}[1]{\\lstset{mathescape=false}#1\\lstset{mathescape=true}}\n",
    "```"
   ]
  },
  {
   "cell_type": "markdown",
   "metadata": {},
   "source": [
    "```{=latex}\n",
    "\\title{Jupyter as Your Incident Management Tool}\n",
    "\\subtitle{DevOps as Science}\n",
    "\\author{Moshe Zadka -- https://cobordism.com}\n",
    "\\date{2021}\n",
    "\n",
    "\\begin{document}\n",
    "\\begin{titlepage}\n",
    "\\maketitle\n",
    "\\end{titlepage}\n",
    "\n",
    "\\frame{\\titlepage}\n",
    "```"
   ]
  },
  {
   "cell_type": "code",
   "execution_count": 69,
   "metadata": {},
   "outputs": [],
   "source": [
    "from PIL import Image\n",
    "import httpx\n",
    "import collections\n",
    "import operator\n",
    "import datetime"
   ]
  },
  {
   "cell_type": "markdown",
   "metadata": {},
   "source": [
    "```{=latex}\n",
    "\\begin{frame}\n",
    "\\frametitle{Acknowledgement of Country}\n",
    "\n",
    "Belmont (in San Francisco Bay Area Peninsula)\n",
    "\n",
    "Ancestral homeland of the Ramaytush Ohlone\n",
    "\n",
    "\\end{frame}\n",
    "```"
   ]
  },
  {
   "cell_type": "markdown",
   "metadata": {},
   "source": [
    "## Intro to Jupyter"
   ]
  },
  {
   "cell_type": "markdown",
   "metadata": {},
   "source": [
    "### Notebooks"
   ]
  },
  {
   "cell_type": "markdown",
   "metadata": {},
   "source": [
    "```{=latex}\n",
    "\\begin{frame}\n",
    "\\frametitle{Jupyter Notebooks}\n",
    "\n",
    "\\begin{itemize}\n",
    "\\item Language agnostic console\n",
    "\\item Saves inputs/outputs in JSON\n",
    "\\item Can export to HTML, Markdown, etc.\n",
    "\\end{itemize}\n",
    "\\end{frame}\n",
    "```"
   ]
  },
  {
   "cell_type": "markdown",
   "metadata": {},
   "source": [
    "### Kernels"
   ]
  },
  {
   "cell_type": "markdown",
   "metadata": {},
   "source": [
    "```{=latex}\n",
    "\\begin{frame}\n",
    "\\frametitle{Jupyter Kernels}\n",
    "\n",
    "\\begin{itemize}\n",
    "\\item Language execution engine\n",
    "\\item IPyKernel in a virtual environment\n",
    "\\end{itemize}\n",
    "\\end{frame}\n",
    "```"
   ]
  },
  {
   "cell_type": "markdown",
   "metadata": {},
   "source": [
    "### Data Science Origins"
   ]
  },
  {
   "cell_type": "markdown",
   "metadata": {},
   "source": [
    "```{=latex}\n",
    "\\begin{frame}\n",
    "\\frametitle{Data Science Origins}\n",
    "\n",
    "\\begin{itemize}\n",
    "\\item Sharing work\n",
    "\\item Executable format\n",
    "\\item Exploration\n",
    "\\end{itemize}\n",
    "\\end{frame}\n",
    "```"
   ]
  },
  {
   "cell_type": "markdown",
   "metadata": {},
   "source": [
    "## Demo incident -- slowdown"
   ]
  },
  {
   "cell_type": "markdown",
   "metadata": {},
   "source": [
    "### Stack"
   ]
  },
  {
   "cell_type": "markdown",
   "metadata": {},
   "source": [
    "```{=latex}\n",
    "\\begin{frame}\n",
    "\\frametitle{Imaginary Stack}\n",
    "\n",
    "\\begin{itemize}\n",
    "\\item Some vague \"Service\"\n",
    "\\item Our team is in charge of its SLAs\n",
    "\\item As luck would have it, a page comes in...\n",
    "\\end{itemize}\n",
    "\\end{frame}\n",
    "```"
   ]
  },
  {
   "cell_type": "markdown",
   "metadata": {},
   "source": [
    "### Symptom"
   ]
  },
  {
   "cell_type": "markdown",
   "metadata": {},
   "source": [
    "```{=latex}\n",
    "\\begin{frame}\n",
    "\\frametitle{Symptom}\n",
    "\n",
    "\\begin{itemize}\n",
    "\\item P90 latency is spiking\n",
    "\\item Each server has different \"typical behavior\"\n",
    "\\item Figure out which server is misbehaving and fix\n",
    "\\end{itemize}\n",
    "\\end{frame}\n",
    "```"
   ]
  },
  {
   "cell_type": "markdown",
   "metadata": {},
   "source": [
    "### Spoiler"
   ]
  },
  {
   "cell_type": "markdown",
   "metadata": {},
   "source": [
    "```{=latex}\n",
    "\\begin{frame}\n",
    "\\frametitle{Spoiler}\n",
    "\n",
    "\\begin{itemize}\n",
    "\\item Not a detective story! \n",
    "\\item Core file dumped resulting in some queries take too long\n",
    "\\end{itemize}\n",
    "\\end{frame}\n",
    "```"
   ]
  },
  {
   "cell_type": "markdown",
   "metadata": {},
   "source": [
    "## Querying and analyzing operational data"
   ]
  },
  {
   "cell_type": "markdown",
   "metadata": {},
   "source": [
    "### Query"
   ]
  },
  {
   "cell_type": "markdown",
   "metadata": {},
   "source": [
    "```{=latex}\n",
    "\\begin{frame}[fragile]\n",
    "\\frametitle{Spoiler}\n",
    "```"
   ]
  },
  {
   "cell_type": "code",
   "execution_count": 78,
   "metadata": {},
   "outputs": [
    {
     "data": {
      "image/png": "[encoded data removed]",
      "text/plain": [
       "<PIL.Image.Image image mode=RGBA size=159x105 at 0x7FB6ECF76910>"
      ]
     },
     "execution_count": 78,
     "metadata": {},
     "output_type": "execute_result"
    }
   ],
   "source": [
    "image = Image.open(\"prometheus.png\")\n",
    "width, height = image.size\n",
    "image.resize((width//4, height//4))"
   ]
  },
  {
   "cell_type": "markdown",
   "metadata": {},
   "source": [
    "```{=latex}\n",
    "\\end{frame}\n",
    "```"
   ]
  },
  {
   "cell_type": "markdown",
   "metadata": {},
   "source": [
    "```{=latex}\n",
    "\\begin{frame}[fragile]\n",
    "\\frametitle{Query Data}\n",
    "```"
   ]
  },
  {
   "cell_type": "code",
   "execution_count": 82,
   "metadata": {},
   "outputs": [],
   "source": [
    "now = datetime.datetime.now()\n",
    "five_minutes_agp = (\n",
    "    now - datetime.timedelta(minutes=5))\n",
    "data = httpx.get(\n",
    "    f\"http://localhost:9090/api/v1/query_range\"\n",
    "    \"?query=level\"\n",
    "    f\"&start={five_minutes_agp.timestamp()}\"\n",
    "    f\"&end={now.timestamp()}&step=10s\").json()"
   ]
  },
  {
   "cell_type": "code",
   "execution_count": 84,
   "metadata": {},
   "outputs": [
    {
     "data": {
      "text/plain": [
       "({'__name__': 'level',\n",
       "  'instance': 'localhost:8080',\n",
       "  'job': 'my_service',\n",
       "  'which': 'object1'},\n",
       " [[1605230830.588, '0.11407403763077273'],\n",
       "  [1605230840.588, '0.6268484040376028']])"
      ]
     },
     "execution_count": 84,
     "metadata": {},
     "output_type": "execute_result"
    }
   ],
   "source": [
    "(data[\"data\"][\"result\"][0][\"metric\"],\n",
    " data[\"data\"][\"result\"][0][\"values\"][:2])"
   ]
  },
  {
   "cell_type": "markdown",
   "metadata": {},
   "source": [
    "```{=latex}\n",
    "\\end{frame}\n",
    "```"
   ]
  },
  {
   "cell_type": "markdown",
   "metadata": {},
   "source": [
    "```{=latex}\n",
    "\\begin{frame}[fragile]\n",
    "\\frametitle{Analyze Data}\n",
    "```"
   ]
  },
  {
   "cell_type": "code",
   "execution_count": 44,
   "metadata": {},
   "outputs": [
    {
     "data": {
      "text/plain": [
       "('object4', 13.641418227003584)"
      ]
     },
     "execution_count": 44,
     "metadata": {},
     "output_type": "execute_result"
    }
   ],
   "source": [
    "amplitudes = {}\n",
    "for result in data[\"data\"][\"result\"]:\n",
    "    which = result[\"metric\"][\"which\"]\n",
    "    values = [float(value)\n",
    "              for when, value in result[\"values\"]]\n",
    "    amplitudes[which] = max(values) - min(values)\n",
    "max(amplitudes.items(), \n",
    "    key=operator.itemgetter(1))"
   ]
  },
  {
   "cell_type": "markdown",
   "metadata": {},
   "source": [
    "```{=latex}\n",
    "\\end{frame}\n",
    "```"
   ]
  },
  {
   "cell_type": "markdown",
   "metadata": {},
   "source": [
    "```{=latex}\n",
    "\\begin{frame}\n",
    "\\frametitle{We Know The Culprit}\n",
    "\n",
    "That dastardly object4!\\pause\n",
    "\n",
    "Now let's find out what the problem is.\n",
    "\\end{frame}\n",
    "```"
   ]
  },
  {
   "cell_type": "markdown",
   "metadata": {},
   "source": [
    "## Using Cloud API from Jupyter"
   ]
  },
  {
   "cell_type": "markdown",
   "metadata": {},
   "source": [
    "### Boto3"
   ]
  },
  {
   "cell_type": "code",
   "execution_count": 45,
   "metadata": {},
   "outputs": [],
   "source": [
    "import json\n",
    "import boto3"
   ]
  },
  {
   "cell_type": "markdown",
   "metadata": {},
   "source": [
    "```{=latex}\n",
    "\\begin{frame}[fragile]\n",
    "\\frametitle{Boto3}\n",
    "```"
   ]
  },
  {
   "cell_type": "code",
   "execution_count": 46,
   "metadata": {},
   "outputs": [],
   "source": [
    "with open(\"aws_params.json\") as fpin:\n",
    "    params = json.loads(fpin.read())\n",
    "\n",
    "ec2 = boto3.client(\"ec2\", **params)"
   ]
  },
  {
   "cell_type": "markdown",
   "metadata": {},
   "source": [
    "```{=latex}\n",
    "\\end{frame}\n",
    "```"
   ]
  },
  {
   "cell_type": "markdown",
   "metadata": {},
   "source": [
    "### Check EC2 Instances"
   ]
  },
  {
   "cell_type": "markdown",
   "metadata": {},
   "source": [
    "```{=latex}\n",
    "\\begin{frame}[fragile]\n",
    "```"
   ]
  },
  {
   "cell_type": "code",
   "execution_count": 49,
   "metadata": {},
   "outputs": [
    {
     "name": "stdout",
     "output_type": "stream",
     "text": [
      "i-6e02ec9badfdcc9f5\n"
     ]
    }
   ],
   "source": [
    "instances = ec2.describe_instances()\n",
    "for reservation in instances[\"Reservations\"]:\n",
    "    for instance in reservation[\"Instances\"]:\n",
    "        for tag in instance.get(\"Tags\", []):\n",
    "            if (tag[\"Key\"] == \"kind\" \n",
    "                and tag[\"Value\"] == \"object4\"):\n",
    "                object4_instance = instance\n",
    "print(object4_instance[\"InstanceId\"])"
   ]
  },
  {
   "cell_type": "markdown",
   "metadata": {},
   "source": [
    "```{=latex}\n",
    "\\end{frame}\n",
    "```"
   ]
  },
  {
   "cell_type": "markdown",
   "metadata": {},
   "source": [
    "```{=latex}\n",
    "\\begin{frame}\n",
    "\\frametitle{We Know The Culprit}\n",
    "\n",
    "We Found the instance\\pause\n",
    "\n",
    "i-something-or-other\\pause\n",
    "\n",
    "Time to fix the issue\n",
    "\\end{frame}\n",
    "```"
   ]
  },
  {
   "cell_type": "markdown",
   "metadata": {},
   "source": [
    "## Using Paramiko"
   ]
  },
  {
   "cell_type": "markdown",
   "metadata": {},
   "source": [
    "### Paramiko"
   ]
  },
  {
   "cell_type": "code",
   "execution_count": 50,
   "metadata": {},
   "outputs": [],
   "source": [
    "import paramiko"
   ]
  },
  {
   "cell_type": "markdown",
   "metadata": {},
   "source": [
    "```{=latex}\n",
    "\\begin{frame}[fragile]\n",
    "\\frametitle{Connect to Host}\n",
    "```"
   ]
  },
  {
   "cell_type": "code",
   "execution_count": 59,
   "metadata": {},
   "outputs": [
    {
     "name": "stderr",
     "output_type": "stream",
     "text": [
      "/home/moshez/.virtualenvs/jupyter-incident/lib/python3.8/site-packages/paramiko/client.py:835: UserWarning: Unknown ssh-ed25519 host key for 172.17.0.2: b'f8b3488df2a6cb911103b31345113e37'\n",
      "  warnings.warn(\n"
     ]
    }
   ],
   "source": [
    "client = paramiko.SSHClient()\n",
    "client.set_missing_host_key_policy(\n",
    "    paramiko.client.WarningPolicy)\n",
    "client.connect(\n",
    "    object4_instance[\"PrivateIpAddress\"],\n",
    "    username=\"root\")"
   ]
  },
  {
   "cell_type": "markdown",
   "metadata": {},
   "source": [
    "```{=latex}\n",
    "\\end{frame}\n",
    "```"
   ]
  },
  {
   "cell_type": "markdown",
   "metadata": {},
   "source": [
    "```{=latex}\n",
    "\\begin{frame}[fragile]\n",
    "\\frametitle{Confirm the Problem}\n",
    "```"
   ]
  },
  {
   "cell_type": "code",
   "execution_count": 60,
   "metadata": {},
   "outputs": [
    {
     "name": "stdout",
     "output_type": "stream",
     "text": [
      "core\n",
      "\n"
     ]
    }
   ],
   "source": [
    "stdin, stdout, stderr = client.exec_command('ls')\n",
    "stdin.close()\n",
    "print(stdout.read().decode(\"utf-8\"))"
   ]
  },
  {
   "cell_type": "markdown",
   "metadata": {},
   "source": [
    "```{=latex}\n",
    "\\end{frame}\n",
    "```"
   ]
  },
  {
   "cell_type": "markdown",
   "metadata": {},
   "source": [
    "```{=latex}\n",
    "\\begin{frame}[fragile]\n",
    "\\frametitle{Fix the Problem}\n",
    "```"
   ]
  },
  {
   "cell_type": "code",
   "execution_count": 67,
   "metadata": {},
   "outputs": [
    {
     "name": "stdout",
     "output_type": "stream",
     "text": [
      "------\n",
      "  \n",
      "------\n"
     ]
    }
   ],
   "source": [
    "stdin, stdout, stderr = client.exec_command(\n",
    "    'rm ~/core')\n",
    "stdin.close()\n",
    "stdin, stdout, stderr = client.exec_command('ls')\n",
    "print(\"------\\n\", \n",
    "      stdout.read().decode(\"utf-8\"), \n",
    "      \"\\n------\")"
   ]
  },
  {
   "cell_type": "markdown",
   "metadata": {},
   "source": [
    "```{=latex}\n",
    "\\end{frame}\n",
    "```"
   ]
  },
  {
   "cell_type": "markdown",
   "metadata": {},
   "source": [
    "## Attach Notebooks"
   ]
  },
  {
   "cell_type": "markdown",
   "metadata": {},
   "source": [
    "```{=latex}\n",
    "\\begin{frame}\n",
    "\\frametitle{Post-Incident}\n",
    "\n",
    "\\begin{itemize}\n",
    "\\item Duplicate notebook \\pause\n",
    "\\item Add notes in Markdown \\pause\n",
    "\\item Export to HTML\n",
    "\\item Attach HTML + Notebook to incident ticket\n",
    "\\end{itemize}\n",
    "\\end{frame}\n",
    "```"
   ]
  },
  {
   "cell_type": "markdown",
   "metadata": {},
   "source": [
    "## Final Thoughts"
   ]
  },
  {
   "cell_type": "markdown",
   "metadata": {},
   "source": [
    "```{=latex}\n",
    "\\begin{frame}\n",
    "\\frametitle{Final Thoughts}\n",
    "\n",
    "\\begin{itemize}\n",
    "\\item Incident resolution is exploratory \\pause\n",
    "\\item This is not an auditing tool! \\pause\n",
    "\\item Share knowledge \\pause\n",
    "\\item Be prepared for retrospective\n",
    "\\end{itemize}\n",
    "\\end{frame}\n",
    "```"
   ]
  },
  {
   "cell_type": "markdown",
   "metadata": {},
   "source": [
    "```{=latex}\n",
    "\\end{document}\n",
    "```"
   ]
  },
  {
   "cell_type": "code",
   "execution_count": null,
   "metadata": {},
   "outputs": [],
   "source": []
  }
 ],
 "metadata": {
  "kernelspec": {
   "display_name": "jupyter-incident",
   "language": "python",
   "name": "jupyter-incident-venv"
  },
  "language_info": {
   "codemirror_mode": {
    "name": "ipython",
    "version": 3
   },
   "file_extension": ".py",
   "mimetype": "text/x-python",
   "name": "python",
   "nbconvert_exporter": "python",
   "pygments_lexer": "ipython3",
   "version": "3.8.3"
  }
 },
 "nbformat": 4,
 "nbformat_minor": 4
}
