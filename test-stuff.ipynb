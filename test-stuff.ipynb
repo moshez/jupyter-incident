{
 "cells": [
  {
   "cell_type": "markdown",
   "metadata": {},
   "source": [
    "Start `moto_server`"
   ]
  },
  {
   "cell_type": "code",
   "execution_count": 54,
   "metadata": {},
   "outputs": [],
   "source": [
    "import boto3\n",
    "import json"
   ]
  },
  {
   "cell_type": "code",
   "execution_count": 55,
   "metadata": {},
   "outputs": [],
   "source": [
    "with open(\"aws_params.json\") as fpin:\n",
    "    params = json.loads(fpin.read())"
   ]
  },
  {
   "cell_type": "code",
   "execution_count": 56,
   "metadata": {},
   "outputs": [],
   "source": [
    "a = boto3.resource(\"ec2\", **params)"
   ]
  },
  {
   "cell_type": "code",
   "execution_count": 58,
   "metadata": {},
   "outputs": [],
   "source": [
    "ip_address = \"1.1.1.3\" # The IP of the docker instance running the ssh"
   ]
  },
  {
   "cell_type": "code",
   "execution_count": 59,
   "metadata": {},
   "outputs": [
    {
     "data": {
      "text/plain": [
       "[ec2.Instance(id='i-28a4486003be53698')]"
      ]
     },
     "execution_count": 59,
     "metadata": {},
     "output_type": "execute_result"
    }
   ],
   "source": [
    "a.create_instances(ImageId='ami', MinCount=1, MaxCount=1, PrivateIpAddress=ip_address, \n",
    "                   TagSpecifications=[dict(ResourceType=\"instance\", Tags=[dict(Key=\"kind\", Value=\"object4\")])])"
   ]
  },
  {
   "cell_type": "code",
   "execution_count": 60,
   "metadata": {},
   "outputs": [],
   "source": [
    "b = boto3.client(\"ec2\", **params)"
   ]
  },
  {
   "cell_type": "code",
   "execution_count": 61,
   "metadata": {},
   "outputs": [],
   "source": [
    "instances = b.describe_instances()"
   ]
  },
  {
   "cell_type": "code",
   "execution_count": 62,
   "metadata": {},
   "outputs": [
    {
     "name": "stdout",
     "output_type": "stream",
     "text": [
      "1.1.1.2 [{'Key': 'kind', 'Value': 'object4'}]\n",
      "1.1.1.3 [{'Key': 'kind', 'Value': 'object4'}]\n"
     ]
    }
   ],
   "source": [
    "response = b.describe_instances()\n",
    "for reservation in instances[\"Reservations\"]:\n",
    "    for instance in reservation[\"Instances\"]:\n",
    "        print(instance[\"PrivateIpAddress\"], instance.get('Tags', []))"
   ]
  }
 ],
 "metadata": {
  "kernelspec": {
   "display_name": "jupyter-incident",
   "language": "python",
   "name": "jupyter-incident-venv"
  },
  "language_info": {
   "codemirror_mode": {
    "name": "ipython",
    "version": 3
   },
   "file_extension": ".py",
   "mimetype": "text/x-python",
   "name": "python",
   "nbconvert_exporter": "python",
   "pygments_lexer": "ipython3",
   "version": "3.8.3"
  }
 },
 "nbformat": 4,
 "nbformat_minor": 4
}
